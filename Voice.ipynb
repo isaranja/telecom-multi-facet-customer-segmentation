{
 "cells": [
  {
   "cell_type": "markdown",
   "metadata": {},
   "source": [
    "# Customer Segmentation - Voice\n"
   ]
  },
  {
   "cell_type": "markdown",
   "metadata": {},
   "source": [
    "## Problem statement\n",
    "\n",
    "###### “What are the identifiable customer segments based on their Life Value?”"
   ]
  },
  {
   "cell_type": "markdown",
   "metadata": {},
   "source": [
    "## Hypothesis generation\n",
    "\n",
    "Feature list considered for clustering\n",
    "* Data M2O/M2M\n",
    "* Time of the date\n",
    "* Day of the week\n",
    "* Incoming/Outgoing"
   ]
  },
  {
   "cell_type": "markdown",
   "metadata": {},
   "source": [
    "## Data exploration / transformation"
   ]
  },
  {
   "cell_type": "code",
   "execution_count": 1,
   "metadata": {},
   "outputs": [
    {
     "name": "stdout",
     "output_type": "stream",
     "text": [
      "Populating the interactive namespace from numpy and matplotlib\n"
     ]
    }
   ],
   "source": [
    "% pylab inline \n",
    "\n",
    "import pandas as pd\n",
    "import numpy as np\n",
    "\n",
    "from sklearn.cluster import KMeans"
   ]
  },
  {
   "cell_type": "code",
   "execution_count": 2,
   "metadata": {
    "collapsed": true
   },
   "outputs": [],
   "source": [
    "# reading the sample data\n",
    "df = pd.read_csv('Voice.csv')"
   ]
  },
  {
   "cell_type": "code",
   "execution_count": 3,
   "metadata": {},
   "outputs": [
    {
     "data": {
      "text/html": [
       "<div>\n",
       "<style>\n",
       "    .dataframe thead tr:only-child th {\n",
       "        text-align: right;\n",
       "    }\n",
       "\n",
       "    .dataframe thead th {\n",
       "        text-align: left;\n",
       "    }\n",
       "\n",
       "    .dataframe tbody tr th {\n",
       "        vertical-align: top;\n",
       "    }\n",
       "</style>\n",
       "<table border=\"1\" class=\"dataframe\">\n",
       "  <thead>\n",
       "    <tr style=\"text-align: right;\">\n",
       "      <th></th>\n",
       "      <th>ChargingPartyNumber</th>\n",
       "      <th>wkday</th>\n",
       "      <th>wkend</th>\n",
       "      <th>ofcTime</th>\n",
       "      <th>ngtTime</th>\n",
       "      <th>trvlTime</th>\n",
       "      <th>outgoing</th>\n",
       "      <th>incoming</th>\n",
       "      <th>m2m</th>\n",
       "      <th>m2o</th>\n",
       "    </tr>\n",
       "  </thead>\n",
       "  <tbody>\n",
       "    <tr>\n",
       "      <th>0</th>\n",
       "      <td>142354223</td>\n",
       "      <td>118306</td>\n",
       "      <td>72052</td>\n",
       "      <td>35606</td>\n",
       "      <td>128773</td>\n",
       "      <td>25979</td>\n",
       "      <td>190358</td>\n",
       "      <td>56071</td>\n",
       "      <td>164699</td>\n",
       "      <td>25659</td>\n",
       "    </tr>\n",
       "    <tr>\n",
       "      <th>1</th>\n",
       "      <td>138848743</td>\n",
       "      <td>19551</td>\n",
       "      <td>10253</td>\n",
       "      <td>16396</td>\n",
       "      <td>4899</td>\n",
       "      <td>8509</td>\n",
       "      <td>29804</td>\n",
       "      <td>9887</td>\n",
       "      <td>22229</td>\n",
       "      <td>7575</td>\n",
       "    </tr>\n",
       "  </tbody>\n",
       "</table>\n",
       "</div>"
      ],
      "text/plain": [
       "   ChargingPartyNumber   wkday  wkend  ofcTime  ngtTime  trvlTime  outgoing  \\\n",
       "0            142354223  118306  72052    35606   128773     25979    190358   \n",
       "1            138848743   19551  10253    16396     4899      8509     29804   \n",
       "\n",
       "   incoming     m2m    m2o  \n",
       "0     56071  164699  25659  \n",
       "1      9887   22229   7575  "
      ]
     },
     "execution_count": 3,
     "metadata": {},
     "output_type": "execute_result"
    }
   ],
   "source": [
    "df.head(n=2)"
   ]
  },
  {
   "cell_type": "code",
   "execution_count": 5,
   "metadata": {
    "collapsed": true
   },
   "outputs": [],
   "source": [
    "dfd = df[['outgoing','incoming']]"
   ]
  },
  {
   "cell_type": "code",
   "execution_count": null,
   "metadata": {},
   "outputs": [],
   "source": [
    "dfd.loc[:,'total'] = dfd.loc[:,'outgoing'] + dfd.loc[:,'incoming']"
   ]
  },
  {
   "cell_type": "code",
   "execution_count": 7,
   "metadata": {},
   "outputs": [
    {
     "data": {
      "text/html": [
       "<div>\n",
       "<style>\n",
       "    .dataframe thead tr:only-child th {\n",
       "        text-align: right;\n",
       "    }\n",
       "\n",
       "    .dataframe thead th {\n",
       "        text-align: left;\n",
       "    }\n",
       "\n",
       "    .dataframe tbody tr th {\n",
       "        vertical-align: top;\n",
       "    }\n",
       "</style>\n",
       "<table border=\"1\" class=\"dataframe\">\n",
       "  <thead>\n",
       "    <tr style=\"text-align: right;\">\n",
       "      <th></th>\n",
       "      <th>outgoing</th>\n",
       "      <th>incoming</th>\n",
       "      <th>total</th>\n",
       "    </tr>\n",
       "  </thead>\n",
       "  <tbody>\n",
       "    <tr>\n",
       "      <th>0</th>\n",
       "      <td>190358</td>\n",
       "      <td>56071</td>\n",
       "      <td>246429</td>\n",
       "    </tr>\n",
       "    <tr>\n",
       "      <th>1</th>\n",
       "      <td>29804</td>\n",
       "      <td>9887</td>\n",
       "      <td>39691</td>\n",
       "    </tr>\n",
       "    <tr>\n",
       "      <th>2</th>\n",
       "      <td>4302</td>\n",
       "      <td>7189</td>\n",
       "      <td>11491</td>\n",
       "    </tr>\n",
       "    <tr>\n",
       "      <th>3</th>\n",
       "      <td>1115</td>\n",
       "      <td>25106</td>\n",
       "      <td>26221</td>\n",
       "    </tr>\n",
       "    <tr>\n",
       "      <th>4</th>\n",
       "      <td>2940</td>\n",
       "      <td>2178</td>\n",
       "      <td>5118</td>\n",
       "    </tr>\n",
       "  </tbody>\n",
       "</table>\n",
       "</div>"
      ],
      "text/plain": [
       "   outgoing  incoming   total\n",
       "0    190358     56071  246429\n",
       "1     29804      9887   39691\n",
       "2      4302      7189   11491\n",
       "3      1115     25106   26221\n",
       "4      2940      2178    5118"
      ]
     },
     "execution_count": 7,
     "metadata": {},
     "output_type": "execute_result"
    }
   ],
   "source": [
    "dfd.head()"
   ]
  },
  {
   "cell_type": "code",
   "execution_count": null,
   "metadata": {},
   "outputs": [],
   "source": [
    "dfd.loc[:,('outgoing','incoming')] = dfd.loc[:,('outgoing','incoming')].div(dfd[\"total\"],axis=0)"
   ]
  },
  {
   "cell_type": "code",
   "execution_count": 9,
   "metadata": {},
   "outputs": [
    {
     "data": {
      "text/html": [
       "<div>\n",
       "<style>\n",
       "    .dataframe thead tr:only-child th {\n",
       "        text-align: right;\n",
       "    }\n",
       "\n",
       "    .dataframe thead th {\n",
       "        text-align: left;\n",
       "    }\n",
       "\n",
       "    .dataframe tbody tr th {\n",
       "        vertical-align: top;\n",
       "    }\n",
       "</style>\n",
       "<table border=\"1\" class=\"dataframe\">\n",
       "  <thead>\n",
       "    <tr style=\"text-align: right;\">\n",
       "      <th></th>\n",
       "      <th>outgoing</th>\n",
       "      <th>incoming</th>\n",
       "      <th>total</th>\n",
       "    </tr>\n",
       "  </thead>\n",
       "  <tbody>\n",
       "    <tr>\n",
       "      <th>0</th>\n",
       "      <td>0.772466</td>\n",
       "      <td>0.227534</td>\n",
       "      <td>246429</td>\n",
       "    </tr>\n",
       "    <tr>\n",
       "      <th>1</th>\n",
       "      <td>0.750901</td>\n",
       "      <td>0.249099</td>\n",
       "      <td>39691</td>\n",
       "    </tr>\n",
       "    <tr>\n",
       "      <th>2</th>\n",
       "      <td>0.374380</td>\n",
       "      <td>0.625620</td>\n",
       "      <td>11491</td>\n",
       "    </tr>\n",
       "    <tr>\n",
       "      <th>3</th>\n",
       "      <td>0.042523</td>\n",
       "      <td>0.957477</td>\n",
       "      <td>26221</td>\n",
       "    </tr>\n",
       "    <tr>\n",
       "      <th>4</th>\n",
       "      <td>0.574443</td>\n",
       "      <td>0.425557</td>\n",
       "      <td>5118</td>\n",
       "    </tr>\n",
       "  </tbody>\n",
       "</table>\n",
       "</div>"
      ],
      "text/plain": [
       "   outgoing  incoming   total\n",
       "0  0.772466  0.227534  246429\n",
       "1  0.750901  0.249099   39691\n",
       "2  0.374380  0.625620   11491\n",
       "3  0.042523  0.957477   26221\n",
       "4  0.574443  0.425557    5118"
      ]
     },
     "execution_count": 9,
     "metadata": {},
     "output_type": "execute_result"
    }
   ],
   "source": [
    "dfd.head()"
   ]
  },
  {
   "cell_type": "code",
   "execution_count": 10,
   "metadata": {},
   "outputs": [
    {
     "name": "stdout",
     "output_type": "stream",
     "text": [
      "         outgoing  incoming  cluster\n",
      "cluster                             \n",
      "0            0.15      0.85   376899\n",
      "1            0.56      0.44   643289\n",
      "2            0.37      0.63   647970\n",
      "3            0.78      0.22   329139\n"
     ]
    }
   ],
   "source": [
    "# Assign clustering\n",
    "dfdc = dfd[['outgoing','incoming']]\n",
    "random.seed(123)\n",
    "km = KMeans(n_clusters=4).fit(dfdc)\n",
    "\n",
    "# cluster representation\n",
    "dfdc.loc[:,'cluster'] =  km.labels_\n",
    "clustergrp = pd.concat([dfdc.groupby('cluster').mean().round(2), dfdc.groupby('cluster')['cluster'].count()], axis=1)\n",
    "print(clustergrp)"
   ]
  },
  {
   "cell_type": "code",
   "execution_count": 11,
   "metadata": {
    "collapsed": true
   },
   "outputs": [],
   "source": [
    "df['cluster_voice_direction']=km.labels_"
   ]
  },
  {
   "cell_type": "code",
   "execution_count": 12,
   "metadata": {
    "collapsed": true
   },
   "outputs": [],
   "source": [
    "dfn = df[['m2m','m2o','outgoing']]"
   ]
  },
  {
   "cell_type": "code",
   "execution_count": 13,
   "metadata": {},
   "outputs": [
    {
     "data": {
      "text/html": [
       "<div>\n",
       "<style>\n",
       "    .dataframe thead tr:only-child th {\n",
       "        text-align: right;\n",
       "    }\n",
       "\n",
       "    .dataframe thead th {\n",
       "        text-align: left;\n",
       "    }\n",
       "\n",
       "    .dataframe tbody tr th {\n",
       "        vertical-align: top;\n",
       "    }\n",
       "</style>\n",
       "<table border=\"1\" class=\"dataframe\">\n",
       "  <thead>\n",
       "    <tr style=\"text-align: right;\">\n",
       "      <th></th>\n",
       "      <th>m2m</th>\n",
       "      <th>m2o</th>\n",
       "      <th>outgoing</th>\n",
       "    </tr>\n",
       "  </thead>\n",
       "  <tbody>\n",
       "    <tr>\n",
       "      <th>0</th>\n",
       "      <td>164699</td>\n",
       "      <td>25659</td>\n",
       "      <td>190358</td>\n",
       "    </tr>\n",
       "    <tr>\n",
       "      <th>1</th>\n",
       "      <td>22229</td>\n",
       "      <td>7575</td>\n",
       "      <td>29804</td>\n",
       "    </tr>\n",
       "    <tr>\n",
       "      <th>2</th>\n",
       "      <td>0</td>\n",
       "      <td>4302</td>\n",
       "      <td>4302</td>\n",
       "    </tr>\n",
       "    <tr>\n",
       "      <th>3</th>\n",
       "      <td>1083</td>\n",
       "      <td>32</td>\n",
       "      <td>1115</td>\n",
       "    </tr>\n",
       "    <tr>\n",
       "      <th>4</th>\n",
       "      <td>2812</td>\n",
       "      <td>128</td>\n",
       "      <td>2940</td>\n",
       "    </tr>\n",
       "  </tbody>\n",
       "</table>\n",
       "</div>"
      ],
      "text/plain": [
       "      m2m    m2o  outgoing\n",
       "0  164699  25659    190358\n",
       "1   22229   7575     29804\n",
       "2       0   4302      4302\n",
       "3    1083     32      1115\n",
       "4    2812    128      2940"
      ]
     },
     "execution_count": 13,
     "metadata": {},
     "output_type": "execute_result"
    }
   ],
   "source": [
    "dfn = dfn.query('outgoing > 0')\n",
    "dfn.head()"
   ]
  },
  {
   "cell_type": "code",
   "execution_count": 14,
   "metadata": {
    "collapsed": true
   },
   "outputs": [],
   "source": [
    "dfn.loc[:,('m2m','m2o')] = dfn.loc[:,('m2m','m2o')].div(dfn[\"outgoing\"],axis=0)"
   ]
  },
  {
   "cell_type": "code",
   "execution_count": 15,
   "metadata": {},
   "outputs": [
    {
     "data": {
      "text/html": [
       "<div>\n",
       "<style>\n",
       "    .dataframe thead tr:only-child th {\n",
       "        text-align: right;\n",
       "    }\n",
       "\n",
       "    .dataframe thead th {\n",
       "        text-align: left;\n",
       "    }\n",
       "\n",
       "    .dataframe tbody tr th {\n",
       "        vertical-align: top;\n",
       "    }\n",
       "</style>\n",
       "<table border=\"1\" class=\"dataframe\">\n",
       "  <thead>\n",
       "    <tr style=\"text-align: right;\">\n",
       "      <th></th>\n",
       "      <th>m2m</th>\n",
       "      <th>m2o</th>\n",
       "      <th>outgoing</th>\n",
       "    </tr>\n",
       "  </thead>\n",
       "  <tbody>\n",
       "    <tr>\n",
       "      <th>0</th>\n",
       "      <td>0.865207</td>\n",
       "      <td>0.134793</td>\n",
       "      <td>190358</td>\n",
       "    </tr>\n",
       "    <tr>\n",
       "      <th>1</th>\n",
       "      <td>0.745839</td>\n",
       "      <td>0.254161</td>\n",
       "      <td>29804</td>\n",
       "    </tr>\n",
       "    <tr>\n",
       "      <th>2</th>\n",
       "      <td>0.000000</td>\n",
       "      <td>1.000000</td>\n",
       "      <td>4302</td>\n",
       "    </tr>\n",
       "    <tr>\n",
       "      <th>3</th>\n",
       "      <td>0.971300</td>\n",
       "      <td>0.028700</td>\n",
       "      <td>1115</td>\n",
       "    </tr>\n",
       "    <tr>\n",
       "      <th>4</th>\n",
       "      <td>0.956463</td>\n",
       "      <td>0.043537</td>\n",
       "      <td>2940</td>\n",
       "    </tr>\n",
       "  </tbody>\n",
       "</table>\n",
       "</div>"
      ],
      "text/plain": [
       "        m2m       m2o  outgoing\n",
       "0  0.865207  0.134793    190358\n",
       "1  0.745839  0.254161     29804\n",
       "2  0.000000  1.000000      4302\n",
       "3  0.971300  0.028700      1115\n",
       "4  0.956463  0.043537      2940"
      ]
     },
     "execution_count": 15,
     "metadata": {},
     "output_type": "execute_result"
    }
   ],
   "source": [
    "dfn.head()"
   ]
  },
  {
   "cell_type": "code",
   "execution_count": 16,
   "metadata": {},
   "outputs": [
    {
     "name": "stdout",
     "output_type": "stream",
     "text": [
      "          m2o   m2m  cluster\n",
      "cluster                     \n",
      "0        0.30  0.70   549705\n",
      "1        0.83  0.17   280149\n",
      "2        0.54  0.46   423561\n",
      "3        0.08  0.92   720293\n"
     ]
    }
   ],
   "source": [
    "# Assign clustering\n",
    "dfnc = dfn[['m2o','m2m']]\n",
    "random.seed(123)\n",
    "km = KMeans(n_clusters=4).fit(dfnc)\n",
    "\n",
    "# cluster representation\n",
    "dfnc.loc[:,'cluster'] =  km.labels_\n",
    "clustergrp = pd.concat([dfnc.groupby('cluster').mean().round(2), dfnc.groupby('cluster')['cluster'].count()], axis=1)\n",
    "print(clustergrp)"
   ]
  },
  {
   "cell_type": "code",
   "execution_count": 17,
   "metadata": {
    "collapsed": true
   },
   "outputs": [],
   "source": [
    "df['cluster_voice_network']='NA'\n",
    "df.loc[(df.outgoing >0), 'cluster_voice_network'] = km.labels_"
   ]
  },
  {
   "cell_type": "code",
   "execution_count": 18,
   "metadata": {},
   "outputs": [
    {
     "data": {
      "text/html": [
       "<div>\n",
       "<style>\n",
       "    .dataframe thead tr:only-child th {\n",
       "        text-align: right;\n",
       "    }\n",
       "\n",
       "    .dataframe thead th {\n",
       "        text-align: left;\n",
       "    }\n",
       "\n",
       "    .dataframe tbody tr th {\n",
       "        vertical-align: top;\n",
       "    }\n",
       "</style>\n",
       "<table border=\"1\" class=\"dataframe\">\n",
       "  <thead>\n",
       "    <tr style=\"text-align: right;\">\n",
       "      <th></th>\n",
       "      <th>ChargingPartyNumber</th>\n",
       "      <th>wkday</th>\n",
       "      <th>wkend</th>\n",
       "      <th>ofcTime</th>\n",
       "      <th>ngtTime</th>\n",
       "      <th>trvlTime</th>\n",
       "      <th>outgoing</th>\n",
       "      <th>incoming</th>\n",
       "      <th>m2m</th>\n",
       "      <th>m2o</th>\n",
       "      <th>cluster_voice_direction</th>\n",
       "      <th>cluster_voice_network</th>\n",
       "    </tr>\n",
       "  </thead>\n",
       "  <tbody>\n",
       "    <tr>\n",
       "      <th>0</th>\n",
       "      <td>142354223</td>\n",
       "      <td>118306</td>\n",
       "      <td>72052</td>\n",
       "      <td>35606</td>\n",
       "      <td>128773</td>\n",
       "      <td>25979</td>\n",
       "      <td>190358</td>\n",
       "      <td>56071</td>\n",
       "      <td>164699</td>\n",
       "      <td>25659</td>\n",
       "      <td>3</td>\n",
       "      <td>3</td>\n",
       "    </tr>\n",
       "    <tr>\n",
       "      <th>1</th>\n",
       "      <td>138848743</td>\n",
       "      <td>19551</td>\n",
       "      <td>10253</td>\n",
       "      <td>16396</td>\n",
       "      <td>4899</td>\n",
       "      <td>8509</td>\n",
       "      <td>29804</td>\n",
       "      <td>9887</td>\n",
       "      <td>22229</td>\n",
       "      <td>7575</td>\n",
       "      <td>3</td>\n",
       "      <td>0</td>\n",
       "    </tr>\n",
       "    <tr>\n",
       "      <th>2</th>\n",
       "      <td>139598327</td>\n",
       "      <td>2519</td>\n",
       "      <td>1783</td>\n",
       "      <td>2090</td>\n",
       "      <td>1134</td>\n",
       "      <td>1078</td>\n",
       "      <td>4302</td>\n",
       "      <td>7189</td>\n",
       "      <td>0</td>\n",
       "      <td>4302</td>\n",
       "      <td>2</td>\n",
       "      <td>1</td>\n",
       "    </tr>\n",
       "    <tr>\n",
       "      <th>3</th>\n",
       "      <td>119956243</td>\n",
       "      <td>425</td>\n",
       "      <td>690</td>\n",
       "      <td>651</td>\n",
       "      <td>341</td>\n",
       "      <td>123</td>\n",
       "      <td>1115</td>\n",
       "      <td>25106</td>\n",
       "      <td>1083</td>\n",
       "      <td>32</td>\n",
       "      <td>0</td>\n",
       "      <td>3</td>\n",
       "    </tr>\n",
       "    <tr>\n",
       "      <th>4</th>\n",
       "      <td>134551681</td>\n",
       "      <td>2159</td>\n",
       "      <td>781</td>\n",
       "      <td>776</td>\n",
       "      <td>1612</td>\n",
       "      <td>552</td>\n",
       "      <td>2940</td>\n",
       "      <td>2178</td>\n",
       "      <td>2812</td>\n",
       "      <td>128</td>\n",
       "      <td>1</td>\n",
       "      <td>3</td>\n",
       "    </tr>\n",
       "  </tbody>\n",
       "</table>\n",
       "</div>"
      ],
      "text/plain": [
       "   ChargingPartyNumber   wkday  wkend  ofcTime  ngtTime  trvlTime  outgoing  \\\n",
       "0            142354223  118306  72052    35606   128773     25979    190358   \n",
       "1            138848743   19551  10253    16396     4899      8509     29804   \n",
       "2            139598327    2519   1783     2090     1134      1078      4302   \n",
       "3            119956243     425    690      651      341       123      1115   \n",
       "4            134551681    2159    781      776     1612       552      2940   \n",
       "\n",
       "   incoming     m2m    m2o  cluster_voice_direction cluster_voice_network  \n",
       "0     56071  164699  25659                        3                     3  \n",
       "1      9887   22229   7575                        3                     0  \n",
       "2      7189       0   4302                        2                     1  \n",
       "3     25106    1083     32                        0                     3  \n",
       "4      2178    2812    128                        1                     3  "
      ]
     },
     "execution_count": 18,
     "metadata": {},
     "output_type": "execute_result"
    }
   ],
   "source": [
    "df.head(5)"
   ]
  },
  {
   "cell_type": "code",
   "execution_count": 19,
   "metadata": {
    "collapsed": true
   },
   "outputs": [],
   "source": [
    "dft = df[['ofcTime','ngtTime','trvlTime','outgoing']]"
   ]
  },
  {
   "cell_type": "code",
   "execution_count": 20,
   "metadata": {},
   "outputs": [
    {
     "data": {
      "text/html": [
       "<div>\n",
       "<style>\n",
       "    .dataframe thead tr:only-child th {\n",
       "        text-align: right;\n",
       "    }\n",
       "\n",
       "    .dataframe thead th {\n",
       "        text-align: left;\n",
       "    }\n",
       "\n",
       "    .dataframe tbody tr th {\n",
       "        vertical-align: top;\n",
       "    }\n",
       "</style>\n",
       "<table border=\"1\" class=\"dataframe\">\n",
       "  <thead>\n",
       "    <tr style=\"text-align: right;\">\n",
       "      <th></th>\n",
       "      <th>ofcTime</th>\n",
       "      <th>ngtTime</th>\n",
       "      <th>trvlTime</th>\n",
       "      <th>outgoing</th>\n",
       "    </tr>\n",
       "  </thead>\n",
       "  <tbody>\n",
       "    <tr>\n",
       "      <th>0</th>\n",
       "      <td>35606</td>\n",
       "      <td>128773</td>\n",
       "      <td>25979</td>\n",
       "      <td>190358</td>\n",
       "    </tr>\n",
       "    <tr>\n",
       "      <th>1</th>\n",
       "      <td>16396</td>\n",
       "      <td>4899</td>\n",
       "      <td>8509</td>\n",
       "      <td>29804</td>\n",
       "    </tr>\n",
       "    <tr>\n",
       "      <th>2</th>\n",
       "      <td>2090</td>\n",
       "      <td>1134</td>\n",
       "      <td>1078</td>\n",
       "      <td>4302</td>\n",
       "    </tr>\n",
       "    <tr>\n",
       "      <th>3</th>\n",
       "      <td>651</td>\n",
       "      <td>341</td>\n",
       "      <td>123</td>\n",
       "      <td>1115</td>\n",
       "    </tr>\n",
       "    <tr>\n",
       "      <th>4</th>\n",
       "      <td>776</td>\n",
       "      <td>1612</td>\n",
       "      <td>552</td>\n",
       "      <td>2940</td>\n",
       "    </tr>\n",
       "  </tbody>\n",
       "</table>\n",
       "</div>"
      ],
      "text/plain": [
       "   ofcTime  ngtTime  trvlTime  outgoing\n",
       "0    35606   128773     25979    190358\n",
       "1    16396     4899      8509     29804\n",
       "2     2090     1134      1078      4302\n",
       "3      651      341       123      1115\n",
       "4      776     1612       552      2940"
      ]
     },
     "execution_count": 20,
     "metadata": {},
     "output_type": "execute_result"
    }
   ],
   "source": [
    "dft = dft.query('outgoing > 0')\n",
    "dft.head()"
   ]
  },
  {
   "cell_type": "code",
   "execution_count": 21,
   "metadata": {
    "collapsed": true
   },
   "outputs": [],
   "source": [
    "dft.loc[:,('ofcTime','ngtTime','trvlTime')] = dft.loc[:,('ofcTime','ngtTime','trvlTime')].div(dft[\"outgoing\"],axis=0)"
   ]
  },
  {
   "cell_type": "code",
   "execution_count": 22,
   "metadata": {},
   "outputs": [
    {
     "name": "stdout",
     "output_type": "stream",
     "text": [
      "         ofcTime  ngtTime  trvlTime  cluster\n",
      "cluster                                     \n",
      "0           0.77     0.05      0.17   207531\n",
      "1           0.47     0.26      0.27   327971\n",
      "2           0.45     0.10      0.45   446932\n",
      "3           0.25     0.09      0.66   140760\n",
      "4           0.22     0.56      0.21   119340\n",
      "5           0.60     0.08      0.31   506281\n",
      "6           0.29     0.30      0.40   224893\n"
     ]
    }
   ],
   "source": [
    "# Assign clustering\n",
    "dftc = dft[['ofcTime','ngtTime','trvlTime']]\n",
    "random.seed(123)\n",
    "km = KMeans(n_clusters=7).fit(dftc)\n",
    "\n",
    "# cluster representation\n",
    "dftc.loc[:,'cluster'] =  km.labels_\n",
    "clustergrp = pd.concat([dftc.groupby('cluster').mean().round(2), dftc.groupby('cluster')['cluster'].count()], axis=1)\n",
    "print(clustergrp)"
   ]
  },
  {
   "cell_type": "code",
   "execution_count": 23,
   "metadata": {
    "collapsed": true
   },
   "outputs": [],
   "source": [
    "df['cluster_voice_time']='NA'\n",
    "df.loc[(df.outgoing >0), 'cluster_voice_time'] = km.labels_"
   ]
  },
  {
   "cell_type": "code",
   "execution_count": 24,
   "metadata": {
    "collapsed": true
   },
   "outputs": [],
   "source": [
    "dfw = df[['wkday','wkend','outgoing']]"
   ]
  },
  {
   "cell_type": "code",
   "execution_count": 25,
   "metadata": {},
   "outputs": [
    {
     "data": {
      "text/html": [
       "<div>\n",
       "<style>\n",
       "    .dataframe thead tr:only-child th {\n",
       "        text-align: right;\n",
       "    }\n",
       "\n",
       "    .dataframe thead th {\n",
       "        text-align: left;\n",
       "    }\n",
       "\n",
       "    .dataframe tbody tr th {\n",
       "        vertical-align: top;\n",
       "    }\n",
       "</style>\n",
       "<table border=\"1\" class=\"dataframe\">\n",
       "  <thead>\n",
       "    <tr style=\"text-align: right;\">\n",
       "      <th></th>\n",
       "      <th>wkday</th>\n",
       "      <th>wkend</th>\n",
       "      <th>outgoing</th>\n",
       "    </tr>\n",
       "  </thead>\n",
       "  <tbody>\n",
       "    <tr>\n",
       "      <th>0</th>\n",
       "      <td>118306</td>\n",
       "      <td>72052</td>\n",
       "      <td>190358</td>\n",
       "    </tr>\n",
       "    <tr>\n",
       "      <th>1</th>\n",
       "      <td>19551</td>\n",
       "      <td>10253</td>\n",
       "      <td>29804</td>\n",
       "    </tr>\n",
       "    <tr>\n",
       "      <th>2</th>\n",
       "      <td>2519</td>\n",
       "      <td>1783</td>\n",
       "      <td>4302</td>\n",
       "    </tr>\n",
       "    <tr>\n",
       "      <th>3</th>\n",
       "      <td>425</td>\n",
       "      <td>690</td>\n",
       "      <td>1115</td>\n",
       "    </tr>\n",
       "    <tr>\n",
       "      <th>4</th>\n",
       "      <td>2159</td>\n",
       "      <td>781</td>\n",
       "      <td>2940</td>\n",
       "    </tr>\n",
       "  </tbody>\n",
       "</table>\n",
       "</div>"
      ],
      "text/plain": [
       "    wkday  wkend  outgoing\n",
       "0  118306  72052    190358\n",
       "1   19551  10253     29804\n",
       "2    2519   1783      4302\n",
       "3     425    690      1115\n",
       "4    2159    781      2940"
      ]
     },
     "execution_count": 25,
     "metadata": {},
     "output_type": "execute_result"
    }
   ],
   "source": [
    "dfw = dfw.query('outgoing > 0')\n",
    "dfw.head()"
   ]
  },
  {
   "cell_type": "code",
   "execution_count": 26,
   "metadata": {
    "collapsed": true
   },
   "outputs": [],
   "source": [
    "dfw.loc[:,('wkday','wkend')] = dfw.loc[:,('wkday','wkend')].div(dfw[\"outgoing\"],axis=0)"
   ]
  },
  {
   "cell_type": "code",
   "execution_count": 27,
   "metadata": {},
   "outputs": [
    {
     "name": "stdout",
     "output_type": "stream",
     "text": [
      "         wkday  wkend  cluster\n",
      "cluster                       \n",
      "0         0.90   0.10   271088\n",
      "1         0.68   0.32   682980\n",
      "2         0.30   0.69    48607\n",
      "3         0.78   0.22   686459\n",
      "4         0.55   0.44   284574\n"
     ]
    }
   ],
   "source": [
    "# Assign clustering\n",
    "dfwc = dfw[['wkday','wkend']]\n",
    "random.seed(123)\n",
    "km = KMeans(n_clusters=5).fit(dfwc)\n",
    "\n",
    "# cluster representation\n",
    "dfwc.loc[:,'cluster'] =  km.labels_\n",
    "clustergrp = pd.concat([dfwc.groupby('cluster').mean().round(2), dfwc.groupby('cluster')['cluster'].count()], axis=1)\n",
    "print(clustergrp)"
   ]
  },
  {
   "cell_type": "code",
   "execution_count": 28,
   "metadata": {
    "collapsed": true
   },
   "outputs": [],
   "source": [
    "df['cluster_voice_day_of_week']='NA'\n",
    "df.loc[(df.outgoing >0), 'cluster_voice_day_of_week'] = km.labels_"
   ]
  },
  {
   "cell_type": "code",
   "execution_count": 29,
   "metadata": {},
   "outputs": [
    {
     "data": {
      "text/html": [
       "<div>\n",
       "<style>\n",
       "    .dataframe thead tr:only-child th {\n",
       "        text-align: right;\n",
       "    }\n",
       "\n",
       "    .dataframe thead th {\n",
       "        text-align: left;\n",
       "    }\n",
       "\n",
       "    .dataframe tbody tr th {\n",
       "        vertical-align: top;\n",
       "    }\n",
       "</style>\n",
       "<table border=\"1\" class=\"dataframe\">\n",
       "  <thead>\n",
       "    <tr style=\"text-align: right;\">\n",
       "      <th></th>\n",
       "      <th>ChargingPartyNumber</th>\n",
       "      <th>wkday</th>\n",
       "      <th>wkend</th>\n",
       "      <th>ofcTime</th>\n",
       "      <th>ngtTime</th>\n",
       "      <th>trvlTime</th>\n",
       "      <th>outgoing</th>\n",
       "      <th>incoming</th>\n",
       "      <th>m2m</th>\n",
       "      <th>m2o</th>\n",
       "      <th>cluster_voice_direction</th>\n",
       "      <th>cluster_voice_network</th>\n",
       "      <th>cluster_voice_time</th>\n",
       "      <th>cluster_voice_day_of_week</th>\n",
       "    </tr>\n",
       "  </thead>\n",
       "  <tbody>\n",
       "    <tr>\n",
       "      <th>0</th>\n",
       "      <td>142354223</td>\n",
       "      <td>118306</td>\n",
       "      <td>72052</td>\n",
       "      <td>35606</td>\n",
       "      <td>128773</td>\n",
       "      <td>25979</td>\n",
       "      <td>190358</td>\n",
       "      <td>56071</td>\n",
       "      <td>164699</td>\n",
       "      <td>25659</td>\n",
       "      <td>3</td>\n",
       "      <td>3</td>\n",
       "      <td>4</td>\n",
       "      <td>1</td>\n",
       "    </tr>\n",
       "    <tr>\n",
       "      <th>1</th>\n",
       "      <td>138848743</td>\n",
       "      <td>19551</td>\n",
       "      <td>10253</td>\n",
       "      <td>16396</td>\n",
       "      <td>4899</td>\n",
       "      <td>8509</td>\n",
       "      <td>29804</td>\n",
       "      <td>9887</td>\n",
       "      <td>22229</td>\n",
       "      <td>7575</td>\n",
       "      <td>3</td>\n",
       "      <td>0</td>\n",
       "      <td>5</td>\n",
       "      <td>1</td>\n",
       "    </tr>\n",
       "    <tr>\n",
       "      <th>2</th>\n",
       "      <td>139598327</td>\n",
       "      <td>2519</td>\n",
       "      <td>1783</td>\n",
       "      <td>2090</td>\n",
       "      <td>1134</td>\n",
       "      <td>1078</td>\n",
       "      <td>4302</td>\n",
       "      <td>7189</td>\n",
       "      <td>0</td>\n",
       "      <td>4302</td>\n",
       "      <td>2</td>\n",
       "      <td>1</td>\n",
       "      <td>1</td>\n",
       "      <td>4</td>\n",
       "    </tr>\n",
       "    <tr>\n",
       "      <th>3</th>\n",
       "      <td>119956243</td>\n",
       "      <td>425</td>\n",
       "      <td>690</td>\n",
       "      <td>651</td>\n",
       "      <td>341</td>\n",
       "      <td>123</td>\n",
       "      <td>1115</td>\n",
       "      <td>25106</td>\n",
       "      <td>1083</td>\n",
       "      <td>32</td>\n",
       "      <td>0</td>\n",
       "      <td>3</td>\n",
       "      <td>1</td>\n",
       "      <td>2</td>\n",
       "    </tr>\n",
       "    <tr>\n",
       "      <th>4</th>\n",
       "      <td>134551681</td>\n",
       "      <td>2159</td>\n",
       "      <td>781</td>\n",
       "      <td>776</td>\n",
       "      <td>1612</td>\n",
       "      <td>552</td>\n",
       "      <td>2940</td>\n",
       "      <td>2178</td>\n",
       "      <td>2812</td>\n",
       "      <td>128</td>\n",
       "      <td>1</td>\n",
       "      <td>3</td>\n",
       "      <td>4</td>\n",
       "      <td>3</td>\n",
       "    </tr>\n",
       "  </tbody>\n",
       "</table>\n",
       "</div>"
      ],
      "text/plain": [
       "   ChargingPartyNumber   wkday  wkend  ofcTime  ngtTime  trvlTime  outgoing  \\\n",
       "0            142354223  118306  72052    35606   128773     25979    190358   \n",
       "1            138848743   19551  10253    16396     4899      8509     29804   \n",
       "2            139598327    2519   1783     2090     1134      1078      4302   \n",
       "3            119956243     425    690      651      341       123      1115   \n",
       "4            134551681    2159    781      776     1612       552      2940   \n",
       "\n",
       "   incoming     m2m    m2o  cluster_voice_direction cluster_voice_network  \\\n",
       "0     56071  164699  25659                        3                     3   \n",
       "1      9887   22229   7575                        3                     0   \n",
       "2      7189       0   4302                        2                     1   \n",
       "3     25106    1083     32                        0                     3   \n",
       "4      2178    2812    128                        1                     3   \n",
       "\n",
       "  cluster_voice_time cluster_voice_day_of_week  \n",
       "0                  4                         1  \n",
       "1                  5                         1  \n",
       "2                  1                         4  \n",
       "3                  1                         2  \n",
       "4                  4                         3  "
      ]
     },
     "execution_count": 29,
     "metadata": {},
     "output_type": "execute_result"
    }
   ],
   "source": [
    "df.head()"
   ]
  },
  {
   "cell_type": "code",
   "execution_count": 30,
   "metadata": {
    "collapsed": true
   },
   "outputs": [],
   "source": [
    "df.round(0).to_csv('voice.csv',index=False)"
   ]
  }
 ],
 "metadata": {
  "kernelspec": {
   "display_name": "Python 3",
   "language": "python",
   "name": "python3"
  },
  "language_info": {
   "codemirror_mode": {
    "name": "ipython",
    "version": 3
   },
   "file_extension": ".py",
   "mimetype": "text/x-python",
   "name": "python",
   "nbconvert_exporter": "python",
   "pygments_lexer": "ipython3",
   "version": "3.6.7"
  }
 },
 "nbformat": 4,
 "nbformat_minor": 2
}
