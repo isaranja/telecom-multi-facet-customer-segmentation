{
 "cells": [
  {
   "cell_type": "markdown",
   "metadata": {},
   "source": [
    "# Customer Value Segmentation\n",
    "\n",
    "Mobitel pvt ltd wants to segment their prepaid subscriber base in order to take best action on retention, penetration, elasticity, acquisition and loyalty. The first scheme of the segmentation is the customer value segmentation."
   ]
  },
  {
   "cell_type": "markdown",
   "metadata": {},
   "source": [
    "## Problem statement\n",
    "\n",
    "###### “What are the identifiable customer segments based on their product purchasing behavior for target marketing?”"
   ]
  },
  {
   "cell_type": "markdown",
   "metadata": {},
   "source": [
    "## Hypothesis generation\n",
    "\n",
    "We can identify four major product in prepaid bussiness. Revenue of these products are used for customer value segmentation\n",
    "* VOICE (M2M & M2O) revenue\n",
    "* IDD revenue\n",
    "* DATA revenue\n",
    "* VAS revenue"
   ]
  },
  {
   "cell_type": "markdown",
   "metadata": {},
   "source": [
    "## Data exploration / transformation"
   ]
  },
  {
   "cell_type": "code",
   "execution_count": 1,
   "metadata": {},
   "outputs": [
    {
     "name": "stdout",
     "output_type": "stream",
     "text": [
      "Populating the interactive namespace from numpy and matplotlib\n"
     ]
    }
   ],
   "source": [
    "% pylab inline \n",
    "\n",
    "import pandas as pd\n",
    "import numpy as np\n",
    "\n",
    "from sklearn.cluster import KMeans"
   ]
  },
  {
   "cell_type": "code",
   "execution_count": 2,
   "metadata": {
    "collapsed": true
   },
   "outputs": [],
   "source": [
    "# reading the sample data\n",
    "df = pd.read_csv('RevenueStream.csv')"
   ]
  },
  {
   "cell_type": "code",
   "execution_count": 5,
   "metadata": {},
   "outputs": [
    {
     "data": {
      "text/html": [
       "<div>\n",
       "<style>\n",
       "    .dataframe thead tr:only-child th {\n",
       "        text-align: right;\n",
       "    }\n",
       "\n",
       "    .dataframe thead th {\n",
       "        text-align: left;\n",
       "    }\n",
       "\n",
       "    .dataframe tbody tr th {\n",
       "        vertical-align: top;\n",
       "    }\n",
       "</style>\n",
       "<table border=\"1\" class=\"dataframe\">\n",
       "  <thead>\n",
       "    <tr style=\"text-align: right;\">\n",
       "      <th></th>\n",
       "      <th>MSISDN</th>\n",
       "      <th>IDD</th>\n",
       "      <th>M2M</th>\n",
       "      <th>M2O</th>\n",
       "      <th>Data_excess</th>\n",
       "      <th>VAS</th>\n",
       "      <th>Data_Addon</th>\n",
       "    </tr>\n",
       "  </thead>\n",
       "  <tbody>\n",
       "    <tr>\n",
       "      <th>0</th>\n",
       "      <td>22690085</td>\n",
       "      <td>0</td>\n",
       "      <td>0</td>\n",
       "      <td>0</td>\n",
       "      <td>0</td>\n",
       "      <td>7.48</td>\n",
       "      <td>0</td>\n",
       "    </tr>\n",
       "    <tr>\n",
       "      <th>1</th>\n",
       "      <td>22690327</td>\n",
       "      <td>0</td>\n",
       "      <td>17</td>\n",
       "      <td>0</td>\n",
       "      <td>0</td>\n",
       "      <td>104.72</td>\n",
       "      <td>0</td>\n",
       "    </tr>\n",
       "  </tbody>\n",
       "</table>\n",
       "</div>"
      ],
      "text/plain": [
       "     MSISDN  IDD  M2M  M2O  Data_excess     VAS  Data_Addon\n",
       "0  22690085    0    0    0            0    7.48           0\n",
       "1  22690327    0   17    0            0  104.72           0"
      ]
     },
     "execution_count": 5,
     "metadata": {},
     "output_type": "execute_result"
    }
   ],
   "source": [
    "df_backup = df.copy()\n",
    "df.head(n=2)"
   ]
  },
  {
   "cell_type": "code",
   "execution_count": 6,
   "metadata": {},
   "outputs": [
    {
     "name": "stderr",
     "output_type": "stream",
     "text": [
      "C:\\Users\\amalka\\AppData\\Local\\Continuum\\anaconda3\\lib\\site-packages\\ipykernel_launcher.py:8: SettingWithCopyWarning: \n",
      "A value is trying to be set on a copy of a slice from a DataFrame\n",
      "\n",
      "See the caveats in the documentation: http://pandas.pydata.org/pandas-docs/stable/indexing.html#indexing-view-versus-copy\n",
      "  \n"
     ]
    },
    {
     "data": {
      "text/html": [
       "<div>\n",
       "<style>\n",
       "    .dataframe thead tr:only-child th {\n",
       "        text-align: right;\n",
       "    }\n",
       "\n",
       "    .dataframe thead th {\n",
       "        text-align: left;\n",
       "    }\n",
       "\n",
       "    .dataframe tbody tr th {\n",
       "        vertical-align: top;\n",
       "    }\n",
       "</style>\n",
       "<table border=\"1\" class=\"dataframe\">\n",
       "  <thead>\n",
       "    <tr style=\"text-align: right;\">\n",
       "      <th></th>\n",
       "      <th>MSISDN</th>\n",
       "      <th>IDD</th>\n",
       "      <th>VAS</th>\n",
       "      <th>VOICE</th>\n",
       "      <th>DATA</th>\n",
       "      <th>TOTAL</th>\n",
       "    </tr>\n",
       "  </thead>\n",
       "  <tbody>\n",
       "    <tr>\n",
       "      <th>0</th>\n",
       "      <td>22690085</td>\n",
       "      <td>0</td>\n",
       "      <td>7.48</td>\n",
       "      <td>0</td>\n",
       "      <td>0</td>\n",
       "      <td>7.48</td>\n",
       "    </tr>\n",
       "    <tr>\n",
       "      <th>1</th>\n",
       "      <td>22690327</td>\n",
       "      <td>0</td>\n",
       "      <td>104.72</td>\n",
       "      <td>17</td>\n",
       "      <td>0</td>\n",
       "      <td>121.72</td>\n",
       "    </tr>\n",
       "  </tbody>\n",
       "</table>\n",
       "</div>"
      ],
      "text/plain": [
       "     MSISDN  IDD     VAS  VOICE  DATA   TOTAL\n",
       "0  22690085    0    7.48      0     0    7.48\n",
       "1  22690327    0  104.72     17     0  121.72"
      ]
     },
     "execution_count": 6,
     "metadata": {},
     "output_type": "execute_result"
    }
   ],
   "source": [
    "# Deriving the major product revenues\n",
    "df['VOICE'] = df.M2M + df.M2O\n",
    "df['DATA'] = df.Data_excess + df.Data_Addon\n",
    "df['TOTAL'] = df.IDD + df.VOICE + df.DATA + df.VAS\n",
    "\n",
    "df = df.query('TOTAL >0')\n",
    "# Removing additional columns\n",
    "df.drop(['M2M','M2O','Data_Addon','Data_excess'],inplace=True,axis=1)\n",
    "\n",
    "df.head(n=2)"
   ]
  },
  {
   "cell_type": "markdown",
   "metadata": {},
   "source": [
    "#### Basic rule based segmentation"
   ]
  },
  {
   "cell_type": "code",
   "execution_count": null,
   "metadata": {},
   "outputs": [],
   "source": [
    "#Customer segment with 0 usage\n",
    "\n",
    "df['cluster'] ='dormant'\n",
    "\n",
    "#Voice only customer\n",
    "df.loc[(df.IDD + df.DATA + df.VAS == 0) & df.TOTAL >0, 'cluster'] = 'voice_only'\n",
    "\n",
    "#data only base\n",
    "df.loc[(df.IDD + df.VOICE + df.VAS == 0) & df.TOTAL >0, 'cluster'] = 'data_only'\n",
    "\n",
    "#idd only base\n",
    "df.loc[(df.VOICE + df.DATA + df.VAS == 0) & df.TOTAL >0, 'cluster'] = 'idd_only'\n",
    "\n",
    "#vas only base\n",
    "df.loc[(df.IDD + df.DATA + df.VOICE == 0) & df.TOTAL >0, 'cluster'] = 'vas_only'\n",
    "\n",
    "#multi product base\n",
    "df.loc[((df.TOTAL > df.IDD) & (df.TOTAL > df.DATA) & (df.TOTAL > df.VOICE) & (df.TOTAL >df.VAS)), 'cluster'] = 'multiprod'\n",
    "multi_prod = df.query('TOTAL > IDD and TOTAL > VAS and TOTAL > IDD and TOTAL > VOICE')\n",
    "\n",
    "\n",
    "#pd.Series([len(dormant),len(voice_only),len(data_only),len(idd_only),len(vas_only),len(multi_prod)], index=['dormant','Voice_only', 'data_only', 'idd_only', 'vas_only', 'multi_prod'])"
   ]
  },
  {
   "cell_type": "code",
   "execution_count": 8,
   "metadata": {},
   "outputs": [
    {
     "data": {
      "text/html": [
       "<div>\n",
       "<style>\n",
       "    .dataframe thead tr:only-child th {\n",
       "        text-align: right;\n",
       "    }\n",
       "\n",
       "    .dataframe thead th {\n",
       "        text-align: left;\n",
       "    }\n",
       "\n",
       "    .dataframe tbody tr th {\n",
       "        vertical-align: top;\n",
       "    }\n",
       "</style>\n",
       "<table border=\"1\" class=\"dataframe\">\n",
       "  <thead>\n",
       "    <tr style=\"text-align: right;\">\n",
       "      <th></th>\n",
       "      <th>MSISDN</th>\n",
       "      <th>IDD</th>\n",
       "      <th>VAS</th>\n",
       "      <th>VOICE</th>\n",
       "      <th>DATA</th>\n",
       "      <th>TOTAL</th>\n",
       "      <th>cluster</th>\n",
       "    </tr>\n",
       "  </thead>\n",
       "  <tbody>\n",
       "    <tr>\n",
       "      <th>1</th>\n",
       "      <td>22690327</td>\n",
       "      <td>0</td>\n",
       "      <td>104.72</td>\n",
       "      <td>17</td>\n",
       "      <td>0</td>\n",
       "      <td>121.72</td>\n",
       "      <td>multiprod</td>\n",
       "    </tr>\n",
       "    <tr>\n",
       "      <th>2</th>\n",
       "      <td>22690481</td>\n",
       "      <td>0</td>\n",
       "      <td>149.60</td>\n",
       "      <td>224</td>\n",
       "      <td>0</td>\n",
       "      <td>373.60</td>\n",
       "      <td>multiprod</td>\n",
       "    </tr>\n",
       "    <tr>\n",
       "      <th>4</th>\n",
       "      <td>22690558</td>\n",
       "      <td>0</td>\n",
       "      <td>201.96</td>\n",
       "      <td>14</td>\n",
       "      <td>0</td>\n",
       "      <td>215.96</td>\n",
       "      <td>multiprod</td>\n",
       "    </tr>\n",
       "    <tr>\n",
       "      <th>5</th>\n",
       "      <td>22690657</td>\n",
       "      <td>0</td>\n",
       "      <td>194.48</td>\n",
       "      <td>167</td>\n",
       "      <td>0</td>\n",
       "      <td>361.48</td>\n",
       "      <td>multiprod</td>\n",
       "    </tr>\n",
       "    <tr>\n",
       "      <th>6</th>\n",
       "      <td>22690734</td>\n",
       "      <td>0</td>\n",
       "      <td>206.48</td>\n",
       "      <td>76</td>\n",
       "      <td>12</td>\n",
       "      <td>294.48</td>\n",
       "      <td>multiprod</td>\n",
       "    </tr>\n",
       "    <tr>\n",
       "      <th>7</th>\n",
       "      <td>22690756</td>\n",
       "      <td>0</td>\n",
       "      <td>187.00</td>\n",
       "      <td>4</td>\n",
       "      <td>0</td>\n",
       "      <td>191.00</td>\n",
       "      <td>multiprod</td>\n",
       "    </tr>\n",
       "    <tr>\n",
       "      <th>8</th>\n",
       "      <td>22690888</td>\n",
       "      <td>0</td>\n",
       "      <td>201.96</td>\n",
       "      <td>65</td>\n",
       "      <td>0</td>\n",
       "      <td>266.96</td>\n",
       "      <td>multiprod</td>\n",
       "    </tr>\n",
       "    <tr>\n",
       "      <th>9</th>\n",
       "      <td>22690987</td>\n",
       "      <td>0</td>\n",
       "      <td>209.44</td>\n",
       "      <td>9</td>\n",
       "      <td>0</td>\n",
       "      <td>218.44</td>\n",
       "      <td>multiprod</td>\n",
       "    </tr>\n",
       "    <tr>\n",
       "      <th>10</th>\n",
       "      <td>22691042</td>\n",
       "      <td>0</td>\n",
       "      <td>187.00</td>\n",
       "      <td>121</td>\n",
       "      <td>0</td>\n",
       "      <td>308.00</td>\n",
       "      <td>multiprod</td>\n",
       "    </tr>\n",
       "    <tr>\n",
       "      <th>11</th>\n",
       "      <td>22691064</td>\n",
       "      <td>0</td>\n",
       "      <td>376.00</td>\n",
       "      <td>299</td>\n",
       "      <td>189</td>\n",
       "      <td>864.00</td>\n",
       "      <td>multiprod</td>\n",
       "    </tr>\n",
       "  </tbody>\n",
       "</table>\n",
       "</div>"
      ],
      "text/plain": [
       "      MSISDN  IDD     VAS  VOICE  DATA   TOTAL    cluster\n",
       "1   22690327    0  104.72     17     0  121.72  multiprod\n",
       "2   22690481    0  149.60    224     0  373.60  multiprod\n",
       "4   22690558    0  201.96     14     0  215.96  multiprod\n",
       "5   22690657    0  194.48    167     0  361.48  multiprod\n",
       "6   22690734    0  206.48     76    12  294.48  multiprod\n",
       "7   22690756    0  187.00      4     0  191.00  multiprod\n",
       "8   22690888    0  201.96     65     0  266.96  multiprod\n",
       "9   22690987    0  209.44      9     0  218.44  multiprod\n",
       "10  22691042    0  187.00    121     0  308.00  multiprod\n",
       "11  22691064    0  376.00    299   189  864.00  multiprod"
      ]
     },
     "execution_count": 8,
     "metadata": {},
     "output_type": "execute_result"
    }
   ],
   "source": [
    "multi_prod.head(10)"
   ]
  },
  {
   "cell_type": "markdown",
   "metadata": {},
   "source": [
    "## Clustering multiple product userbase"
   ]
  },
  {
   "cell_type": "code",
   "execution_count": 9,
   "metadata": {
    "collapsed": true
   },
   "outputs": [],
   "source": [
    "# Droping IDD IDD user base since it is small\n",
    "multi_prod_copy = multi_prod.copy()\n",
    "multi_prod = multi_prod[['TOTAL','VAS','VOICE','DATA']]\n",
    "# Transforming the absolute usage to propotion value of total use\n",
    "multi_prod = multi_prod.div(multi_prod[\"TOTAL\"],axis=0)\n",
    "multi_prod.drop(['TOTAL'],inplace=True,axis=1)"
   ]
  },
  {
   "cell_type": "code",
   "execution_count": 10,
   "metadata": {
    "collapsed": true
   },
   "outputs": [],
   "source": [
    "km = KMeans(n_clusters=7).fit(multi_prod)"
   ]
  },
  {
   "cell_type": "code",
   "execution_count": 11,
   "metadata": {},
   "outputs": [
    {
     "name": "stdout",
     "output_type": "stream",
     "text": [
      "          VAS  VOICE  DATA  cluster\n",
      "cluster                            \n",
      "0        0.03   0.91  0.05     5277\n",
      "1        0.06   0.22  0.72     1456\n",
      "2        0.84   0.13  0.03     2156\n",
      "3        0.45   0.53  0.01     1640\n",
      "4        0.44   0.08  0.48     5343\n",
      "5        0.30   0.31  0.34     3393\n",
      "6        0.10   0.61  0.25     3254\n"
     ]
    }
   ],
   "source": [
    "# cluster representation\n",
    "multi_prod['cluster'] =  km.labels_\n",
    "multi_prod_copy['cluster'] =  km.labels_\n",
    "clustergrp = pd.concat([multi_prod.groupby('cluster').mean().round(2), multi_prod.groupby('cluster')['cluster'].count()], axis=1)\n",
    "print(clustergrp)"
   ]
  },
  {
   "cell_type": "code",
   "execution_count": 12,
   "metadata": {
    "collapsed": true
   },
   "outputs": [],
   "source": [
    "df.round(0).to_csv('dfRev.csv',index=True)\n",
    "multi_prod_copy.to_csv('multi_prod.csv',index=True)"
   ]
  },
  {
   "cell_type": "code",
   "execution_count": null,
   "metadata": {
    "collapsed": true
   },
   "outputs": [],
   "source": []
  }
 ],
 "metadata": {
  "kernelspec": {
   "display_name": "Python 3",
   "language": "python",
   "name": "python3"
  },
  "language_info": {
   "codemirror_mode": {
    "name": "ipython",
    "version": 3
   },
   "file_extension": ".py",
   "mimetype": "text/x-python",
   "name": "python",
   "nbconvert_exporter": "python",
   "pygments_lexer": "ipython3",
   "version": "3.6.7"
  }
 },
 "nbformat": 4,
 "nbformat_minor": 2
}
