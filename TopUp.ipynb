{
 "cells": [
  {
   "cell_type": "markdown",
   "metadata": {},
   "source": [
    "# Customer Segmentation - Top-Up"
   ]
  },
  {
   "cell_type": "markdown",
   "metadata": {},
   "source": [
    "## Problem statement\n",
    "\n",
    "###### “What are the identifiable customer segments based on their TopUp behavior for target marketing?”"
   ]
  },
  {
   "cell_type": "markdown",
   "metadata": {},
   "source": [
    "## Hypothesis generation\n",
    "\n",
    "Feature list considered for clustering\n",
    "* Denomination\n",
    "* Day of the week\n",
    "* Time of the day\n",
    "* Mode of the Recharge"
   ]
  },
  {
   "cell_type": "markdown",
   "metadata": {},
   "source": [
    "## Data exploration / transformation"
   ]
  },
  {
   "cell_type": "code",
   "execution_count": 19,
   "metadata": {},
   "outputs": [
    {
     "name": "stdout",
     "output_type": "stream",
     "text": [
      "Populating the interactive namespace from numpy and matplotlib\n"
     ]
    }
   ],
   "source": [
    "% pylab inline \n",
    "\n",
    "import pandas as pd\n",
    "import numpy as np\n",
    "\n",
    "from sklearn.cluster import KMeans"
   ]
  },
  {
   "cell_type": "code",
   "execution_count": 20,
   "metadata": {
    "collapsed": true
   },
   "outputs": [],
   "source": [
    "# reading the sample data\n",
    "df = pd.read_csv('TopUp.csv')"
   ]
  },
  {
   "cell_type": "code",
   "execution_count": 22,
   "metadata": {},
   "outputs": [
    {
     "data": {
      "text/html": [
       "<div>\n",
       "<style>\n",
       "    .dataframe thead tr:only-child th {\n",
       "        text-align: right;\n",
       "    }\n",
       "\n",
       "    .dataframe thead th {\n",
       "        text-align: left;\n",
       "    }\n",
       "\n",
       "    .dataframe tbody tr th {\n",
       "        vertical-align: top;\n",
       "    }\n",
       "</style>\n",
       "<table border=\"1\" class=\"dataframe\">\n",
       "  <thead>\n",
       "    <tr style=\"text-align: right;\">\n",
       "      <th></th>\n",
       "      <th>ChargingPartyNumber</th>\n",
       "      <th>frequency</th>\n",
       "      <th>amt</th>\n",
       "      <th>0to50</th>\n",
       "      <th>51to100</th>\n",
       "      <th>100more</th>\n",
       "      <th>wkdayamnt</th>\n",
       "      <th>wkendamnt</th>\n",
       "      <th>OfcTime</th>\n",
       "      <th>ngtTime</th>\n",
       "      <th>trvlTime</th>\n",
       "      <th>card</th>\n",
       "      <th>recharge</th>\n",
       "    </tr>\n",
       "  </thead>\n",
       "  <tbody>\n",
       "    <tr>\n",
       "      <th>0</th>\n",
       "      <td>135413311</td>\n",
       "      <td>18</td>\n",
       "      <td>991.0</td>\n",
       "      <td>199.0</td>\n",
       "      <td>792.0</td>\n",
       "      <td>0.0</td>\n",
       "      <td>942.0</td>\n",
       "      <td>49.0</td>\n",
       "      <td>792.0</td>\n",
       "      <td>49.0</td>\n",
       "      <td>150.0</td>\n",
       "      <td>0.0</td>\n",
       "      <td>991.0</td>\n",
       "    </tr>\n",
       "    <tr>\n",
       "      <th>1</th>\n",
       "      <td>120799811</td>\n",
       "      <td>23</td>\n",
       "      <td>700.0</td>\n",
       "      <td>500.0</td>\n",
       "      <td>200.0</td>\n",
       "      <td>0.0</td>\n",
       "      <td>450.0</td>\n",
       "      <td>250.0</td>\n",
       "      <td>400.0</td>\n",
       "      <td>0.0</td>\n",
       "      <td>300.0</td>\n",
       "      <td>50.0</td>\n",
       "      <td>650.0</td>\n",
       "    </tr>\n",
       "  </tbody>\n",
       "</table>\n",
       "</div>"
      ],
      "text/plain": [
       "   ChargingPartyNumber  frequency    amt  0to50  51to100  100more  wkdayamnt  \\\n",
       "0            135413311         18  991.0  199.0    792.0      0.0      942.0   \n",
       "1            120799811         23  700.0  500.0    200.0      0.0      450.0   \n",
       "\n",
       "   wkendamnt  OfcTime  ngtTime  trvlTime  card  recharge  \n",
       "0       49.0    792.0     49.0     150.0   0.0     991.0  \n",
       "1      250.0    400.0      0.0     300.0  50.0     650.0  "
      ]
     },
     "execution_count": 22,
     "metadata": {},
     "output_type": "execute_result"
    }
   ],
   "source": [
    "df_backup = df.copy()\n",
    "df.head(n=2)"
   ]
  },
  {
   "cell_type": "code",
   "execution_count": 23,
   "metadata": {
    "collapsed": true
   },
   "outputs": [],
   "source": [
    "df = df.query('amt <20000 and amt >0')\n",
    "df_orig = df.copy()"
   ]
  },
  {
   "cell_type": "code",
   "execution_count": 24,
   "metadata": {},
   "outputs": [
    {
     "data": {
      "text/html": [
       "<div>\n",
       "<style>\n",
       "    .dataframe thead tr:only-child th {\n",
       "        text-align: right;\n",
       "    }\n",
       "\n",
       "    .dataframe thead th {\n",
       "        text-align: left;\n",
       "    }\n",
       "\n",
       "    .dataframe tbody tr th {\n",
       "        vertical-align: top;\n",
       "    }\n",
       "</style>\n",
       "<table border=\"1\" class=\"dataframe\">\n",
       "  <thead>\n",
       "    <tr style=\"text-align: right;\">\n",
       "      <th></th>\n",
       "      <th>ChargingPartyNumber</th>\n",
       "      <th>frequency</th>\n",
       "      <th>amt</th>\n",
       "      <th>0to50</th>\n",
       "      <th>51to100</th>\n",
       "      <th>100more</th>\n",
       "      <th>wkdayamnt</th>\n",
       "      <th>wkendamnt</th>\n",
       "      <th>OfcTime</th>\n",
       "      <th>ngtTime</th>\n",
       "      <th>trvlTime</th>\n",
       "      <th>card</th>\n",
       "      <th>recharge</th>\n",
       "    </tr>\n",
       "  </thead>\n",
       "  <tbody>\n",
       "    <tr>\n",
       "      <th>0</th>\n",
       "      <td>135413311</td>\n",
       "      <td>18</td>\n",
       "      <td>991.0</td>\n",
       "      <td>0.200807</td>\n",
       "      <td>0.799193</td>\n",
       "      <td>0.0</td>\n",
       "      <td>0.950555</td>\n",
       "      <td>0.049445</td>\n",
       "      <td>0.799193</td>\n",
       "      <td>0.049445</td>\n",
       "      <td>0.151362</td>\n",
       "      <td>0.000000</td>\n",
       "      <td>1.000000</td>\n",
       "    </tr>\n",
       "    <tr>\n",
       "      <th>1</th>\n",
       "      <td>120799811</td>\n",
       "      <td>23</td>\n",
       "      <td>700.0</td>\n",
       "      <td>0.714286</td>\n",
       "      <td>0.285714</td>\n",
       "      <td>0.0</td>\n",
       "      <td>0.642857</td>\n",
       "      <td>0.357143</td>\n",
       "      <td>0.571429</td>\n",
       "      <td>0.000000</td>\n",
       "      <td>0.428571</td>\n",
       "      <td>0.071429</td>\n",
       "      <td>0.928571</td>\n",
       "    </tr>\n",
       "  </tbody>\n",
       "</table>\n",
       "</div>"
      ],
      "text/plain": [
       "   ChargingPartyNumber  frequency    amt     0to50   51to100  100more  \\\n",
       "0            135413311         18  991.0  0.200807  0.799193      0.0   \n",
       "1            120799811         23  700.0  0.714286  0.285714      0.0   \n",
       "\n",
       "   wkdayamnt  wkendamnt   OfcTime   ngtTime  trvlTime      card  recharge  \n",
       "0   0.950555   0.049445  0.799193  0.049445  0.151362  0.000000  1.000000  \n",
       "1   0.642857   0.357143  0.571429  0.000000  0.428571  0.071429  0.928571  "
      ]
     },
     "execution_count": 24,
     "metadata": {},
     "output_type": "execute_result"
    }
   ],
   "source": [
    "df.loc[:,'0to50':] = df.loc[:,'0to50':].div(df[\"amt\"],axis=0)\n",
    "df.head(n=2)"
   ]
  },
  {
   "cell_type": "markdown",
   "metadata": {},
   "source": [
    "## Clustering "
   ]
  },
  {
   "cell_type": "markdown",
   "metadata": {},
   "source": [
    "### Clusteres based on denomination"
   ]
  },
  {
   "cell_type": "code",
   "execution_count": 25,
   "metadata": {},
   "outputs": [
    {
     "name": "stdout",
     "output_type": "stream",
     "text": [
      "         0to50  51to100  100more  cluster\n",
      "cluster                                  \n",
      "0         0.15     0.82     0.03    85597\n",
      "1         0.68     0.31     0.01    94390\n",
      "2         0.09     0.31     0.59    14676\n",
      "3         0.93     0.07     0.00   102663\n",
      "4         0.42     0.56     0.02    92110\n"
     ]
    },
    {
     "name": "stderr",
     "output_type": "stream",
     "text": [
      "C:\\Users\\amalka\\AppData\\Local\\Continuum\\anaconda3\\lib\\site-packages\\pandas\\core\\indexing.py:337: SettingWithCopyWarning: \n",
      "A value is trying to be set on a copy of a slice from a DataFrame.\n",
      "Try using .loc[row_indexer,col_indexer] = value instead\n",
      "\n",
      "See the caveats in the documentation: http://pandas.pydata.org/pandas-docs/stable/indexing.html#indexing-view-versus-copy\n",
      "  self.obj[key] = _infer_fill_value(value)\n",
      "C:\\Users\\amalka\\AppData\\Local\\Continuum\\anaconda3\\lib\\site-packages\\pandas\\core\\indexing.py:601: SettingWithCopyWarning: \n",
      "A value is trying to be set on a copy of a slice from a DataFrame.\n",
      "Try using .loc[row_indexer,col_indexer] = value instead\n",
      "\n",
      "See the caveats in the documentation: http://pandas.pydata.org/pandas-docs/stable/indexing.html#indexing-view-versus-copy\n",
      "  self.obj[item_labels[indexer[info_axis]]] = value\n"
     ]
    }
   ],
   "source": [
    "# Assign clustering\n",
    "dfD = df[['0to50','51to100','100more']]\n",
    "random.seed(123)\n",
    "km = KMeans(n_clusters=5).fit(dfD)\n",
    "\n",
    "# cluster representation\n",
    "dfD.loc[:,'cluster'] =  km.labels_\n",
    "clustergrp = pd.concat([dfD.groupby('cluster').mean().round(2), dfD.groupby('cluster')['cluster'].count()], axis=1)\n",
    "print(clustergrp)"
   ]
  },
  {
   "cell_type": "code",
   "execution_count": 26,
   "metadata": {
    "collapsed": true
   },
   "outputs": [],
   "source": [
    "df_orig.loc[:,'cluster_denominator'] =  km.labels_"
   ]
  },
  {
   "cell_type": "markdown",
   "metadata": {},
   "source": [
    "### Clusteres based on week behavior"
   ]
  },
  {
   "cell_type": "code",
   "execution_count": 27,
   "metadata": {
    "collapsed": true
   },
   "outputs": [],
   "source": [
    "dfw = df[['wkdayamnt','wkendamnt']]"
   ]
  },
  {
   "cell_type": "code",
   "execution_count": 28,
   "metadata": {},
   "outputs": [
    {
     "name": "stdout",
     "output_type": "stream",
     "text": [
      "         wkdayamnt  wkendamnt  cluster\n",
      "cluster                               \n",
      "0             0.51       0.49    27827\n",
      "1             0.78       0.22   164554\n",
      "2             0.68       0.32   150148\n",
      "3             0.94       0.06    46907\n"
     ]
    },
    {
     "name": "stderr",
     "output_type": "stream",
     "text": [
      "C:\\Users\\amalka\\AppData\\Local\\Continuum\\anaconda3\\lib\\site-packages\\pandas\\core\\indexing.py:337: SettingWithCopyWarning: \n",
      "A value is trying to be set on a copy of a slice from a DataFrame.\n",
      "Try using .loc[row_indexer,col_indexer] = value instead\n",
      "\n",
      "See the caveats in the documentation: http://pandas.pydata.org/pandas-docs/stable/indexing.html#indexing-view-versus-copy\n",
      "  self.obj[key] = _infer_fill_value(value)\n",
      "C:\\Users\\amalka\\AppData\\Local\\Continuum\\anaconda3\\lib\\site-packages\\pandas\\core\\indexing.py:601: SettingWithCopyWarning: \n",
      "A value is trying to be set on a copy of a slice from a DataFrame.\n",
      "Try using .loc[row_indexer,col_indexer] = value instead\n",
      "\n",
      "See the caveats in the documentation: http://pandas.pydata.org/pandas-docs/stable/indexing.html#indexing-view-versus-copy\n",
      "  self.obj[item_labels[indexer[info_axis]]] = value\n"
     ]
    }
   ],
   "source": [
    "## Assign clusters\n",
    "random.seed(123)\n",
    "km = KMeans(n_clusters=4).fit(dfw)\n",
    "\n",
    "# cluster representation\n",
    "dfw.loc[:,'cluster'] =  km.labels_\n",
    "clustergrp = pd.concat([dfw.groupby('cluster').mean().round(2), dfw.groupby('cluster')['cluster'].count()], axis=1)\n",
    "print(clustergrp)"
   ]
  },
  {
   "cell_type": "code",
   "execution_count": 29,
   "metadata": {
    "collapsed": true
   },
   "outputs": [],
   "source": [
    "df_orig.loc[:,'cluster_day_of_week'] =  km.labels_"
   ]
  },
  {
   "cell_type": "markdown",
   "metadata": {},
   "source": [
    "## Clusteres based on time of the day"
   ]
  },
  {
   "cell_type": "code",
   "execution_count": 30,
   "metadata": {},
   "outputs": [],
   "source": [
    "dfT = df[['OfcTime','ngtTime','trvlTime']]"
   ]
  },
  {
   "cell_type": "code",
   "execution_count": 31,
   "metadata": {},
   "outputs": [
    {
     "name": "stdout",
     "output_type": "stream",
     "text": [
      "         OfcTime  ngtTime  trvlTime  cluster\n",
      "cluster                                     \n",
      "0           0.44     0.08      0.48    91048\n",
      "1           0.29     0.27      0.45    53485\n",
      "2           0.48     0.25      0.27    65227\n",
      "3           0.24     0.53      0.24    22044\n",
      "4           0.61     0.07      0.31    89347\n",
      "5           0.21     0.08      0.71    33752\n",
      "6           0.81     0.05      0.14    34533\n"
     ]
    },
    {
     "name": "stderr",
     "output_type": "stream",
     "text": [
      "C:\\Users\\amalka\\AppData\\Local\\Continuum\\anaconda3\\lib\\site-packages\\pandas\\core\\indexing.py:337: SettingWithCopyWarning: \n",
      "A value is trying to be set on a copy of a slice from a DataFrame.\n",
      "Try using .loc[row_indexer,col_indexer] = value instead\n",
      "\n",
      "See the caveats in the documentation: http://pandas.pydata.org/pandas-docs/stable/indexing.html#indexing-view-versus-copy\n",
      "  self.obj[key] = _infer_fill_value(value)\n",
      "C:\\Users\\amalka\\AppData\\Local\\Continuum\\anaconda3\\lib\\site-packages\\pandas\\core\\indexing.py:601: SettingWithCopyWarning: \n",
      "A value is trying to be set on a copy of a slice from a DataFrame.\n",
      "Try using .loc[row_indexer,col_indexer] = value instead\n",
      "\n",
      "See the caveats in the documentation: http://pandas.pydata.org/pandas-docs/stable/indexing.html#indexing-view-versus-copy\n",
      "  self.obj[item_labels[indexer[info_axis]]] = value\n"
     ]
    }
   ],
   "source": [
    "# Assign clusters\n",
    "random.seed(123)\n",
    "km = KMeans(n_clusters=7).fit(dfT)\n",
    "# cluster representation\n",
    "dfT.loc[:,'cluster'] =  km.labels_\n",
    "clustergrp = pd.concat([dfT.groupby('cluster').mean().round(2), dfT.groupby('cluster')['cluster'].count()], axis=1)\n",
    "print(clustergrp)"
   ]
  },
  {
   "cell_type": "code",
   "execution_count": 32,
   "metadata": {
    "collapsed": true
   },
   "outputs": [],
   "source": [
    "df_orig.loc[:,'cluster_time_of_day'] =  km.labels_"
   ]
  },
  {
   "cell_type": "markdown",
   "metadata": {},
   "source": [
    "## Clusteres based on the mode of topUp"
   ]
  },
  {
   "cell_type": "code",
   "execution_count": 33,
   "metadata": {
    "collapsed": true
   },
   "outputs": [],
   "source": [
    "dfM = df[['card','recharge']]"
   ]
  },
  {
   "cell_type": "code",
   "execution_count": 34,
   "metadata": {},
   "outputs": [
    {
     "name": "stdout",
     "output_type": "stream",
     "text": [
      "         card  recharge  cluster\n",
      "cluster                         \n",
      "0        0.02      0.98   258932\n",
      "1        0.84      0.16    22499\n",
      "2        0.21      0.79    71393\n",
      "3        0.48      0.52    36612\n"
     ]
    },
    {
     "name": "stderr",
     "output_type": "stream",
     "text": [
      "C:\\Users\\amalka\\AppData\\Local\\Continuum\\anaconda3\\lib\\site-packages\\pandas\\core\\indexing.py:337: SettingWithCopyWarning: \n",
      "A value is trying to be set on a copy of a slice from a DataFrame.\n",
      "Try using .loc[row_indexer,col_indexer] = value instead\n",
      "\n",
      "See the caveats in the documentation: http://pandas.pydata.org/pandas-docs/stable/indexing.html#indexing-view-versus-copy\n",
      "  self.obj[key] = _infer_fill_value(value)\n",
      "C:\\Users\\amalka\\AppData\\Local\\Continuum\\anaconda3\\lib\\site-packages\\pandas\\core\\indexing.py:601: SettingWithCopyWarning: \n",
      "A value is trying to be set on a copy of a slice from a DataFrame.\n",
      "Try using .loc[row_indexer,col_indexer] = value instead\n",
      "\n",
      "See the caveats in the documentation: http://pandas.pydata.org/pandas-docs/stable/indexing.html#indexing-view-versus-copy\n",
      "  self.obj[item_labels[indexer[info_axis]]] = value\n"
     ]
    }
   ],
   "source": [
    "# Assign clusters\n",
    "random.seed(123)\n",
    "km = KMeans(n_clusters=4).fit(dfM)\n",
    "# cluster representation\n",
    "dfM.loc[:,'cluster'] =  km.labels_\n",
    "clustergrp = pd.concat([dfM.groupby('cluster').mean().round(2), dfM.groupby('cluster')['cluster'].count()], axis=1)\n",
    "print(clustergrp)"
   ]
  },
  {
   "cell_type": "code",
   "execution_count": 35,
   "metadata": {
    "collapsed": true
   },
   "outputs": [],
   "source": [
    "df_orig.loc[:,'cluster_mode_of_topup'] =  km.labels_"
   ]
  },
  {
   "cell_type": "code",
   "execution_count": 36,
   "metadata": {
    "collapsed": true
   },
   "outputs": [],
   "source": [
    "df_orig.round(0).to_csv('topup.csv',index=False)"
   ]
  }
 ],
 "metadata": {
  "kernelspec": {
   "display_name": "Python 3",
   "language": "python",
   "name": "python3"
  },
  "language_info": {
   "codemirror_mode": {
    "name": "ipython",
    "version": 3
   },
   "file_extension": ".py",
   "mimetype": "text/x-python",
   "name": "python",
   "nbconvert_exporter": "python",
   "pygments_lexer": "ipython3",
   "version": "3.6.7"
  }
 },
 "nbformat": 4,
 "nbformat_minor": 2
}
